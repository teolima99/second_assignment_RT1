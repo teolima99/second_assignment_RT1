{
 "cells": [
  {
   "cell_type": "code",
   "execution_count": 1,
   "id": "129bfd7f",
   "metadata": {
    "ExecuteTime": {
     "end_time": "2023-06-01T02:05:37.441661Z",
     "start_time": "2023-06-01T02:05:32.289831Z"
    },
    "execution": {
     "iopub.execute_input": "2023-06-01T01:34:41.989816Z",
     "iopub.status.busy": "2023-06-01T01:34:41.989343Z",
     "iopub.status.idle": "2023-06-01T01:34:50.094314Z",
     "shell.execute_reply": "2023-06-01T01:34:50.092706Z",
     "shell.execute_reply.started": "2023-06-01T01:34:41.989764Z"
    },
    "tags": []
   },
   "outputs": [],
   "source": [
    "#!/usr/bin/env python\n",
    "\n",
    "import rospy\n",
    "import actionlib\n",
    "import actionlib.msg\n",
    "import assignment_2_2022.msg\n",
    "from std_srvs.srv import *\n",
    "from nav_msgs.msg import Odometry\n",
    "from geometry_msgs.msg import Point, Pose, Twist\n",
    "from sensor_msgs.msg import LaserScan\n",
    "from assignment_2_2022.msg import position_velocity\n",
    "from assignment_2_2022.srv import goals, goalsRequest, goalsResponse\n",
    "import sys, select, time, math\n",
    "\n",
    "import jupyros as jr\n",
    "import ipywidgets as widgets\n",
    "from ipywidgets import Button, Layout, ButtonStyle, GridBox, VBox, HBox\n",
    "from IPython.display import display\n",
    "import matplotlib.pyplot as plt\n",
    "from matplotlib.animation import FuncAnimation\n",
    "import numpy as np\n",
    "%matplotlib widget\n",
    "\n",
    "last_time_published_odom = 0\n",
    "last_time_published_laser = 0\n",
    "goal = None\n",
    "Client = None\n",
    "Pub = None\n",
    "PosVel = position_velocity()\n",
    "Position = None\n",
    "\n",
    "x_data, y_data = [], []\n",
    "goal_canceledX, goal_canceledY = [], []"
   ]
  },
  {
   "cell_type": "code",
   "execution_count": 2,
   "id": "5087a77f-802c-478e-a5b0-db5df1654aab",
   "metadata": {
    "ExecuteTime": {
     "end_time": "2023-06-01T02:05:37.480949Z",
     "start_time": "2023-06-01T02:05:37.452437Z"
    },
    "execution": {
     "iopub.execute_input": "2023-06-01T01:34:50.099912Z",
     "iopub.status.busy": "2023-06-01T01:34:50.097717Z",
     "iopub.status.idle": "2023-06-01T01:34:50.132632Z",
     "shell.execute_reply": "2023-06-01T01:34:50.126142Z",
     "shell.execute_reply.started": "2023-06-01T01:34:50.099857Z"
    }
   },
   "outputs": [],
   "source": [
    "def PublishValues(msg):\n",
    "    global Pub\n",
    "    global PosVel\n",
    "    global last_time_published_odom\n",
    "    global Position\n",
    "    global x_data, y_data\n",
    "    \n",
    "    Position = msg.pose.pose.position #Get the position\n",
    "    Velocity = msg.twist.twist.linear #Get the twist\n",
    "    \n",
    "    PosVel.CurrentX=Position.x\n",
    "    PosVel.CurrentY=Position.y\n",
    "    PosVel.VelX=Velocity.x\n",
    "    PosVel.VelY=Velocity.y\n",
    "    \n",
    "    x_data.append(Position.x)\n",
    "    y_data.append(Position.y)\n",
    "    \n",
    "    Pub.publish(PosVel) #Publish the custom message\n",
    "    \n",
    "    current_time = time.time() * 1000  #This part is necessary to see costantly the robot position every 100ms\n",
    "    if current_time - last_time_published_odom > 500:\n",
    "        print(\"\\rRobot position: x={}, y={}\".format(PosVel.CurrentX, PosVel.CurrentY), end='')\n",
    "        last_time_published_odom = current_time"
   ]
  },
  {
   "cell_type": "code",
   "execution_count": 3,
   "id": "5c3524e0-2d27-413f-b40e-0f1f1745a0eb",
   "metadata": {
    "ExecuteTime": {
     "end_time": "2023-06-01T02:05:37.523822Z",
     "start_time": "2023-06-01T02:05:37.496423Z"
    },
    "execution": {
     "iopub.execute_input": "2023-06-01T01:34:50.141674Z",
     "iopub.status.busy": "2023-06-01T01:34:50.141165Z",
     "iopub.status.idle": "2023-06-01T01:34:50.169026Z",
     "shell.execute_reply": "2023-06-01T01:34:50.160289Z",
     "shell.execute_reply.started": "2023-06-01T01:34:50.141631Z"
    }
   },
   "outputs": [],
   "source": [
    "def on_send_goal_button_clicked(b): #Call 'action_client' function\n",
    "    global goal\n",
    "    global Client\n",
    "\n",
    "    goal = assignment_2_2022.msg.PlanningGoal() #Create the goal for the robot\n",
    "    goal.target_pose.pose.position.x = DestinationXwid.value\n",
    "    goal.target_pose.pose.position.y = DestinationYwid.value\n",
    "\n",
    "    Client.send_goal(goal) #Send goal to the server"
   ]
  },
  {
   "cell_type": "code",
   "execution_count": 4,
   "id": "6565eedb-d737-4f00-833c-1857b2677e30",
   "metadata": {
    "ExecuteTime": {
     "end_time": "2023-06-01T02:05:37.567586Z",
     "start_time": "2023-06-01T02:05:37.549776Z"
    },
    "execution": {
     "iopub.execute_input": "2023-06-01T01:34:50.182193Z",
     "iopub.status.busy": "2023-06-01T01:34:50.173556Z",
     "iopub.status.idle": "2023-06-01T01:34:50.208979Z",
     "shell.execute_reply": "2023-06-01T01:34:50.201838Z",
     "shell.execute_reply.started": "2023-06-01T01:34:50.182139Z"
    }
   },
   "outputs": [],
   "source": [
    "def on_cancel_goal_button_clicked(b): #Cancel the goal\n",
    "    global goal\n",
    "    global Client\n",
    "    global goal_canceledX, goal_canceledY\n",
    "    \n",
    "    Client.cancel_goal()\n",
    "    goal_canceledX.append(goal.target_pose.pose.position.x)\n",
    "    goal_canceledY.append(goal.target_pose.pose.position.y)\n",
    "    goal = None"
   ]
  },
  {
   "cell_type": "code",
   "execution_count": 5,
   "id": "ba4764e9-29cf-4e9c-b5ec-8fa35ae21285",
   "metadata": {
    "ExecuteTime": {
     "end_time": "2023-06-01T02:05:37.668801Z",
     "start_time": "2023-06-01T02:05:37.583241Z"
    },
    "execution": {
     "iopub.execute_input": "2023-06-01T01:34:50.226276Z",
     "iopub.status.busy": "2023-06-01T01:34:50.225756Z",
     "iopub.status.idle": "2023-06-01T01:34:50.456459Z",
     "shell.execute_reply": "2023-06-01T01:34:50.442898Z",
     "shell.execute_reply.started": "2023-06-01T01:34:50.226223Z"
    },
    "tags": []
   },
   "outputs": [],
   "source": [
    "DestinationXwid = widgets.FloatText(description='Future X:')\n",
    "DestinationYwid = widgets.FloatText(description='Future Y:')\n",
    "\n",
    "cancel_goal_button = widgets.Button(description=\"Cancel goal\", style=ButtonStyle(button_color='Red'))\n",
    "\n",
    "cancel_goal_button.on_click(on_cancel_goal_button_clicked)\n",
    "\n",
    "send_goal_button = widgets.Button(description = 'Send goal', style=ButtonStyle(button_color='GreenYellow'))\n",
    "\n",
    "send_goal_button.on_click(on_send_goal_button_clicked)"
   ]
  },
  {
   "cell_type": "code",
   "execution_count": 6,
   "id": "4c3debc2-9fda-4910-bf76-08e61a3a4455",
   "metadata": {
    "ExecuteTime": {
     "end_time": "2023-06-01T02:05:37.701030Z",
     "start_time": "2023-06-01T02:05:37.679488Z"
    },
    "execution": {
     "iopub.execute_input": "2023-06-01T01:34:50.460390Z",
     "iopub.status.busy": "2023-06-01T01:34:50.459822Z",
     "iopub.status.idle": "2023-06-01T01:34:50.499710Z",
     "shell.execute_reply": "2023-06-01T01:34:50.493552Z",
     "shell.execute_reply.started": "2023-06-01T01:34:50.460341Z"
    }
   },
   "outputs": [],
   "source": [
    "def clbk_laser(msg):\n",
    "    global last_time_published_laser\n",
    "    \n",
    "    #Only consider obstacles in a 180° field of view in front of the robot\n",
    "    index_start = len(msg.ranges) // 2 - (len(msg.ranges) // 4)\n",
    "    index_end = len(msg.ranges) // 2 + (len(msg.ranges) // 4)\n",
    "    ranges = msg.ranges[index_start:index_end]\n",
    "    min_distance = round(min(ranges),1)\n",
    "    \n",
    "    \n",
    "    current_time = time.time() * 1000 #Print the distance every 100 ms\n",
    "    if current_time - last_time_published_laser > 100:\n",
    "        print(\"\\rDistance from the closest obstacle: {}\".format(min_distance), end='')\n",
    "        last_time_published_laser = current_time"
   ]
  },
  {
   "cell_type": "code",
   "execution_count": 7,
   "id": "f3bd6675-5d01-440f-8550-15a137747c06",
   "metadata": {
    "ExecuteTime": {
     "end_time": "2023-06-01T02:05:37.788145Z",
     "start_time": "2023-06-01T02:05:37.726932Z"
    },
    "execution": {
     "iopub.execute_input": "2023-06-01T01:34:50.506054Z",
     "iopub.status.busy": "2023-06-01T01:34:50.503456Z",
     "iopub.status.idle": "2023-06-01T01:34:50.588838Z",
     "shell.execute_reply": "2023-06-01T01:34:50.586277Z",
     "shell.execute_reply.started": "2023-06-01T01:34:50.505993Z"
    }
   },
   "outputs": [],
   "source": [
    "class PositionVisualizer: #Animation class used to plot the robot's position and goal's position\n",
    "    def __init__(self):\n",
    "        # Init function\n",
    "        self.fig, self.ax = plt.subplots()\n",
    "        # Settings for robot's position plot\n",
    "        self.ln, = plt.plot([], [], 'bo', label = 'Robot position')\n",
    "        # Settings for target's position plot\n",
    "        self.goal_ln, = plt.plot([], [], 'r*', markersize = 10, label = 'Goal position')\n",
    "        self.goal_canceled_ln, = plt.plot([], [], 'D', markersize = 10, label = 'Goals canceled')\n",
    "        \n",
    "        \n",
    "    \n",
    "    def plot_init(self):\n",
    "        # Set axis limits\n",
    "        self.ax.set_xlim(10, -10)\n",
    "        self.ax.set_ylim(10, -10)\n",
    "        # Set the grid\n",
    "        self.ax.grid(True, color = 'gainsboro')\n",
    "        # Set the title\n",
    "        self.ax.set_title('Robot position and goals')\n",
    "        # Set the legend\n",
    "        self.ax.legend(loc = 'upper right')\n",
    "        return self.ln, self.goal_ln, self.goal_canceled_ln\n",
    "    \n",
    "    #def odom_callback(self, msg): #Callback function to update the data arrays\n",
    "    #    self.x_data.append(msg.pose.pose.position.x)\n",
    "    #    self.y_data.append(msg.pose.pose.position.y)\n",
    "    \n",
    "    def update_plot(self, frame):\n",
    "        # Update data\n",
    "        global x_data, y_data\n",
    "        self.ln.set_data(x_data, y_data)\n",
    "        global goal\n",
    "        global goal_canceledX, goal_canceledY\n",
    "\n",
    "        if goal is not None:\n",
    "            self.goal_ln.set_data(goal.target_pose.pose.position.x, goal.target_pose.pose.position.y)\n",
    "        else:\n",
    "            self.goal_ln.set_data([], [])\n",
    "            \n",
    "        if not goal_canceledX:\n",
    "            self.goal_canceled_ln.set_data(goal_canceledX, goal_canceledY)\n",
    "        else:\n",
    "            self.goal_canceled_ln.set_data([], [])\n",
    "            \n",
    "        return self.ln, self.goal_ln    "
   ]
  },
  {
   "cell_type": "code",
   "execution_count": 8,
   "id": "5ab8f758",
   "metadata": {
    "ExecuteTime": {
     "end_time": "2023-06-01T02:05:38.284702Z",
     "start_time": "2023-06-01T02:05:37.801667Z"
    },
    "execution": {
     "iopub.execute_input": "2023-06-01T01:34:50.596664Z",
     "iopub.status.busy": "2023-06-01T01:34:50.595366Z",
     "iopub.status.idle": "2023-06-01T01:34:51.285651Z",
     "shell.execute_reply": "2023-06-01T01:34:51.283953Z",
     "shell.execute_reply.started": "2023-06-01T01:34:50.596608Z"
    },
    "tags": []
   },
   "outputs": [
    {
     "data": {
      "text/plain": [
       "True"
      ]
     },
     "execution_count": 8,
     "metadata": {},
     "output_type": "execute_result"
    }
   ],
   "source": [
    "rospy.init_node('input')\n",
    "\n",
    "global Pub\n",
    "Pub=rospy.Publisher(\"/pos_vel\",position_velocity,queue_size=1) #Send a message with velocity and position\n",
    "\n",
    "global Client\n",
    "Client = actionlib.SimpleActionClient('/reaching_goal', assignment_2_2022.msg.PlanningAction) #Create the action client\n",
    "Client.wait_for_server()"
   ]
  },
  {
   "cell_type": "code",
   "execution_count": 9,
   "id": "38c03e85-fcd3-4c41-8648-149025a13336",
   "metadata": {
    "ExecuteTime": {
     "end_time": "2023-06-01T02:05:38.437553Z",
     "start_time": "2023-06-01T02:05:38.293544Z"
    },
    "execution": {
     "iopub.execute_input": "2023-06-01T01:34:51.333514Z",
     "iopub.status.busy": "2023-06-01T01:34:51.321247Z",
     "iopub.status.idle": "2023-06-01T01:34:51.536680Z",
     "shell.execute_reply": "2023-06-01T01:34:51.521121Z",
     "shell.execute_reply.started": "2023-06-01T01:34:51.333380Z"
    }
   },
   "outputs": [
    {
     "data": {
      "application/vnd.jupyter.widget-view+json": {
       "model_id": "659c81df28d54a07805fbfc5cc788c70",
       "version_major": 2,
       "version_minor": 0
      },
      "text/plain": [
       "VBox(children=(HBox(children=(Button(description='Stop', style=ButtonStyle()),)), Output(layout=Layout(border_…"
      ]
     },
     "execution_count": 9,
     "metadata": {},
     "output_type": "execute_result"
    }
   ],
   "source": [
    "jr.subscribe('/scan', LaserScan, clbk_laser)"
   ]
  },
  {
   "cell_type": "code",
   "execution_count": 10,
   "id": "fbbe5cc5-8b1d-4584-ba6b-797af1769d7a",
   "metadata": {
    "ExecuteTime": {
     "end_time": "2023-06-01T02:05:38.595717Z",
     "start_time": "2023-06-01T02:05:38.460084Z"
    },
    "execution": {
     "iopub.execute_input": "2023-06-01T01:34:51.558204Z",
     "iopub.status.busy": "2023-06-01T01:34:51.554372Z",
     "iopub.status.idle": "2023-06-01T01:34:51.633451Z",
     "shell.execute_reply": "2023-06-01T01:34:51.625548Z",
     "shell.execute_reply.started": "2023-06-01T01:34:51.557990Z"
    }
   },
   "outputs": [
    {
     "data": {
      "application/vnd.jupyter.widget-view+json": {
       "model_id": "f6b2e0d5c52f4b8bb3d84a0380d19581",
       "version_major": 2,
       "version_minor": 0
      },
      "text/plain": [
       "VBox(children=(HBox(children=(Button(description='Stop', style=ButtonStyle()),)), Output(layout=Layout(border_…"
      ]
     },
     "execution_count": 10,
     "metadata": {},
     "output_type": "execute_result"
    }
   ],
   "source": [
    "jr.subscribe(\"/odom\",Odometry,PublishValues)"
   ]
  },
  {
   "cell_type": "code",
   "execution_count": 11,
   "id": "a5384469",
   "metadata": {
    "ExecuteTime": {
     "end_time": "2023-06-01T02:05:38.641622Z",
     "start_time": "2023-06-01T02:05:38.602067Z"
    },
    "execution": {
     "iopub.execute_input": "2023-06-01T01:34:51.651465Z",
     "iopub.status.busy": "2023-06-01T01:34:51.650401Z",
     "iopub.status.idle": "2023-06-01T01:34:51.731853Z",
     "shell.execute_reply": "2023-06-01T01:34:51.727017Z",
     "shell.execute_reply.started": "2023-06-01T01:34:51.651414Z"
    },
    "tags": []
   },
   "outputs": [
    {
     "data": {
      "application/vnd.jupyter.widget-view+json": {
       "model_id": "f60040c25d294da49c2d199f830b5c67",
       "version_major": 2,
       "version_minor": 0
      },
      "text/plain": [
       "HBox(children=(FloatText(value=0.0, description='Future X:'), FloatText(value=0.0, description='Future Y:')))"
      ]
     },
     "metadata": {},
     "output_type": "display_data"
    }
   ],
   "source": [
    "display(widgets.HBox([DestinationXwid, DestinationYwid]))"
   ]
  },
  {
   "cell_type": "code",
   "execution_count": 12,
   "id": "a4d98ee3-839d-434a-b157-5775d8b2a0e9",
   "metadata": {
    "ExecuteTime": {
     "end_time": "2023-06-01T02:05:38.690930Z",
     "start_time": "2023-06-01T02:05:38.653904Z"
    },
    "execution": {
     "iopub.execute_input": "2023-06-01T01:34:51.759878Z",
     "iopub.status.busy": "2023-06-01T01:34:51.758897Z",
     "iopub.status.idle": "2023-06-01T01:34:51.804495Z",
     "shell.execute_reply": "2023-06-01T01:34:51.803252Z",
     "shell.execute_reply.started": "2023-06-01T01:34:51.759823Z"
    },
    "tags": []
   },
   "outputs": [
    {
     "data": {
      "application/vnd.jupyter.widget-view+json": {
       "model_id": "feb3e5822cea40aaa6519ea12241f1b4",
       "version_major": 2,
       "version_minor": 0
      },
      "text/plain": [
       "HBox(children=(Button(description='Send goal', style=ButtonStyle(button_color='GreenYellow')), Button(descript…"
      ]
     },
     "metadata": {},
     "output_type": "display_data"
    }
   ],
   "source": [
    "display(widgets.HBox([send_goal_button, cancel_goal_button]))"
   ]
  },
  {
   "cell_type": "code",
   "execution_count": 13,
   "id": "c31bc311-9d39-48fe-a240-6c4e4af48e6d",
   "metadata": {
    "ExecuteTime": {
     "end_time": "2023-06-01T02:05:39.638100Z",
     "start_time": "2023-06-01T02:05:38.705666Z"
    },
    "execution": {
     "iopub.execute_input": "2023-06-01T01:34:51.815829Z",
     "iopub.status.busy": "2023-06-01T01:34:51.806819Z",
     "iopub.status.idle": "2023-06-01T01:34:52.723471Z",
     "shell.execute_reply": "2023-06-01T01:34:52.720838Z",
     "shell.execute_reply.started": "2023-06-01T01:34:51.815784Z"
    },
    "tags": []
   },
   "outputs": [
    {
     "data": {
      "application/vnd.jupyter.widget-view+json": {
       "model_id": "fc1e5eddce734c3184bcc710c94d343a",
       "version_major": 2,
       "version_minor": 0
      },
      "image/png": "[encoded data removed]",
      "text/html": [
       "\n",
       "            <div style=\"display: inline-block;\">\n",
       "                <div class=\"jupyter-widgets widget-label\" style=\"text-align: center;\">\n",
       "                    Figure\n",
       "                </div>\n",
       "                <img src='data:image/png;base64,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' width=640.0/>\n",
       "            </div>\n",
       "        "
      ],
      "text/plain": [
       "Canvas(toolbar=Toolbar(toolitems=[('Home', 'Reset original view', 'home', 'home'), ('Back', 'Back to previous …"
      ]
     },
     "metadata": {},
     "output_type": "display_data"
    }
   ],
   "source": [
    "# Create the visualizer object\n",
    "position_visualizer = PositionVisualizer()\n",
    "\n",
    "# Plot\n",
    "position_animation = FuncAnimation(\n",
    "    position_visualizer.fig,\n",
    "    position_visualizer.update_plot,\n",
    "    init_func = position_visualizer.plot_init,\n",
    "    cache_frame_data = False)\n",
    "plt.show(block = True)"
   ]
  },
  {
   "cell_type": "code",
   "execution_count": null,
   "id": "dca710fd",
   "metadata": {},
   "outputs": [],
   "source": []
  }
 ],
 "metadata": {
  "hide_input": false,
  "kernelspec": {
   "display_name": "Python 3 (ipykernel)",
   "language": "python",
   "name": "python3"
  },
  "language_info": {
   "codemirror_mode": {
    "name": "ipython",
    "version": 3
   },
   "file_extension": ".py",
   "mimetype": "text/x-python",
   "name": "python",
   "nbconvert_exporter": "python",
   "pygments_lexer": "ipython3",
   "version": "3.10.11"
  },
  "toc": {
   "base_numbering": 1,
   "nav_menu": {},
   "number_sections": true,
   "sideBar": true,
   "skip_h1_title": false,
   "title_cell": "Table of Contents",
   "title_sidebar": "Contents",
   "toc_cell": false,
   "toc_position": {},
   "toc_section_display": true,
   "toc_window_display": false
  },
  "varInspector": {
   "cols": {
    "lenName": 16,
    "lenType": 16,
    "lenVar": 40
   },
   "kernels_config": {
    "python": {
     "delete_cmd_postfix": "",
     "delete_cmd_prefix": "del ",
     "library": "var_list.py",
     "varRefreshCmd": "print(var_dic_list())"
    },
    "r": {
     "delete_cmd_postfix": ") ",
     "delete_cmd_prefix": "rm(",
     "library": "var_list.r",
     "varRefreshCmd": "cat(var_dic_list()) "
    }
   },
   "types_to_exclude": [
    "module",
    "function",
    "builtin_function_or_method",
    "instance",
    "_Feature"
   ],
   "window_display": false
  }
 },
 "nbformat": 4,
 "nbformat_minor": 5
}
